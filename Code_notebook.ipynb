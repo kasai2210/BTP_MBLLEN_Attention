{
 "cells": [
  {
   "cell_type": "code",
   "execution_count": 1,
   "id": "d2d7367f",
   "metadata": {},
   "outputs": [
    {
     "name": "stdout",
     "output_type": "stream",
     "text": [
      "G:\\IIT_RPR\\4th_Year\\BTP\\MBLLEN\\main\n"
     ]
    }
   ],
   "source": [
    "%cd main"
   ]
  },
  {
   "cell_type": "code",
   "execution_count": 2,
   "id": "276878bc",
   "metadata": {},
   "outputs": [
    {
     "name": "stderr",
     "output_type": "stream",
     "text": [
      "2022-11-26 19:29:33.583860: W tensorflow/stream_executor/platform/default/dso_loader.cc:64] Could not load dynamic library 'cudart64_110.dll'; dlerror: cudart64_110.dll not found\n",
      "2022-11-26 19:29:33.584430: I tensorflow/stream_executor/cuda/cudart_stub.cc:29] Ignore above cudart dlerror if you do not have a GPU set up on your machine.\n",
      "2022-11-26 19:29:43.138508: W tensorflow/stream_executor/platform/default/dso_loader.cc:64] Could not load dynamic library 'nvcuda.dll'; dlerror: nvcuda.dll not found\n",
      "2022-11-26 19:29:43.138549: W tensorflow/stream_executor/cuda/cuda_driver.cc:269] failed call to cuInit: UNKNOWN ERROR (303)\n",
      "2022-11-26 19:29:43.141859: I tensorflow/stream_executor/cuda/cuda_diagnostics.cc:169] retrieving CUDA diagnostic information for host: DESKTOP-98TT3KM\n",
      "2022-11-26 19:29:43.141954: I tensorflow/stream_executor/cuda/cuda_diagnostics.cc:176] hostname: DESKTOP-98TT3KM\n",
      "2022-11-26 19:29:43.144664: I tensorflow/core/platform/cpu_feature_guard.cc:193] This TensorFlow binary is optimized with oneAPI Deep Neural Network Library (oneDNN) to use the following CPU instructions in performance-critical operations:  AVX AVX2\n",
      "To enable them in other operations, rebuild TensorFlow with the appropriate compiler flags.\n",
      "2022-11-26 19:29:45.575244: W tensorflow/core/framework/cpu_allocator_impl.cc:82] Allocation of 509607936 exceeds 10% of free system memory.\n",
      "2022-11-26 19:29:45.761579: W tensorflow/core/framework/cpu_allocator_impl.cc:82] Allocation of 509607936 exceeds 10% of free system memory.\n",
      "2022-11-26 19:29:46.974324: W tensorflow/core/framework/cpu_allocator_impl.cc:82] Allocation of 509607936 exceeds 10% of free system memory.\n",
      "2022-11-26 19:29:47.708770: W tensorflow/core/framework/cpu_allocator_impl.cc:82] Allocation of 503433216 exceeds 10% of free system memory.\n",
      "2022-11-26 19:29:48.769024: W tensorflow/core/framework/cpu_allocator_impl.cc:82] Allocation of 509607936 exceeds 10% of free system memory.\n"
     ]
    }
   ],
   "source": [
    "! python test.py "
   ]
  },
  {
   "cell_type": "code",
   "execution_count": null,
   "id": "783dff31",
   "metadata": {},
   "outputs": [],
   "source": []
  }
 ],
 "metadata": {
  "kernelspec": {
   "display_name": "Python 3 (ipykernel)",
   "language": "python",
   "name": "python3"
  },
  "language_info": {
   "codemirror_mode": {
    "name": "ipython",
    "version": 3
   },
   "file_extension": ".py",
   "mimetype": "text/x-python",
   "name": "python",
   "nbconvert_exporter": "python",
   "pygments_lexer": "ipython3",
   "version": "3.8.7"
  }
 },
 "nbformat": 4,
 "nbformat_minor": 5
}
